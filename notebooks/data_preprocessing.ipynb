{
 "cells": [
  {
   "cell_type": "markdown",
   "id": "96dbbc30",
   "metadata": {},
   "source": [
    "### Detecting Outliers via Statistics"
   ]
  },
  {
   "cell_type": "markdown",
   "id": "eb698b54",
   "metadata": {},
   "source": [
    "##### Statistical Checks"
   ]
  },
  {
   "cell_type": "code",
   "execution_count": 1,
   "id": "7e685f0f",
   "metadata": {},
   "outputs": [
    {
     "name": "stdout",
     "output_type": "stream",
     "text": [
      "Mean = 23.5\n",
      "Standard Deviation = 26.207823259477312\n",
      "Median = 17.0\n",
      "Q1 (25th percentile) = 14.25\n",
      "Q3 (75th percentile) = 19.75\n",
      "IQR = 5.5\n",
      "Lower bound = 6.0\n",
      "Upper bound = 28.0\n",
      "Outliers = [ -1 100]\n"
     ]
    }
   ],
   "source": [
    "import numpy as np\n",
    "\n",
    "# Example data\n",
    "data = np.array([-1, 12, 14, 15, 16, 18, 19, 100, 20, 22])\n",
    "\n",
    "# Compute basic stats\n",
    "mean = np.mean(data)\n",
    "std_dev = np.std(data)\n",
    "median = np.median(data)\n",
    "q1 = np.percentile(data, 25)\n",
    "q3 = np.percentile(data, 75)\n",
    "iqr = q3 - q1\n",
    "\n",
    "print(f\"Mean = {mean}\")\n",
    "print(f\"Standard Deviation = {std_dev}\")\n",
    "print(f\"Median = {median}\")\n",
    "print(f\"Q1 (25th percentile) = {q1}\")\n",
    "print(f\"Q3 (75th percentile) = {q3}\")\n",
    "print(f\"IQR = {iqr}\")\n",
    "\n",
    "# Define outlier bounds\n",
    "lower_bound = q1 - 1.5 * iqr\n",
    "upper_bound = q3 + 1.5 * iqr\n",
    "print(f\"Lower bound = {lower_bound}\")\n",
    "print(f\"Upper bound = {upper_bound}\")\n",
    "\n",
    "# Identify outliers\n",
    "outliers = data[(data < lower_bound) | (data > upper_bound)]\n",
    "print(f\"Outliers = {outliers}\")\n"
   ]
  },
  {
   "cell_type": "markdown",
   "id": "75ccc16a",
   "metadata": {},
   "source": [
    "##### Visualization"
   ]
  },
  {
   "cell_type": "code",
   "execution_count": 5,
   "id": "2ed03b77",
   "metadata": {},
   "outputs": [
    {
     "data": {
      "image/png": "[encoded data removed]",
      "text/plain": [
       "<Figure size 1000x400 with 3 Axes>"
      ]
     },
     "metadata": {},
     "output_type": "display_data"
    }
   ],
   "source": [
    "import numpy as np\n",
    "import matplotlib.pyplot as plt\n",
    "import seaborn as sns\n",
    "\n",
    "# Sample data array\n",
    "data = np.array([-1, 12, 14, 15, 16, 18, 19, 100, 20, 22])\n",
    "\n",
    "plt.figure(figsize=(10, 4))\n",
    "\n",
    "# Histogram\n",
    "plt.subplot(1, 3, 1)\n",
    "plt.hist(data, bins=10, color='skyblue', edgecolor='black')\n",
    "plt.title('Histogram')\n",
    "plt.xlabel('Value')\n",
    "plt.ylabel('Frequency')\n",
    "\n",
    "# Box Plot\n",
    "plt.subplot(1, 3, 2)\n",
    "sns.boxplot(data, color='skyblue')\n",
    "plt.title('Box Plot')\n",
    "plt.xlabel('Value')\n",
    "\n",
    "# CDF\n",
    "plt.subplot(1, 3, 3)\n",
    "sorted_data = np.sort(data)\n",
    "cdf = np.arange(1, len(data)+1) / len(data)\n",
    "plt.plot(sorted_data, cdf, marker='.', linestyle='none')\n",
    "plt.title('CDF')\n",
    "plt.xlabel('Value')\n",
    "plt.ylabel('CDF')\n",
    "\n",
    "plt.tight_layout()\n",
    "plt.show()\n"
   ]
  },
  {
   "cell_type": "markdown",
   "id": "a60c8b61",
   "metadata": {},
   "source": [
    "### Handling Outliers"
   ]
  },
  {
   "cell_type": "markdown",
   "id": "c62c888c",
   "metadata": {},
   "source": [
    "##### Median Imputation\n",
    "> Use the **median** of the variable to replace any outliers. This is robust because the median itself isn't skewed by extremes."
   ]
  },
  {
   "cell_type": "code",
   "execution_count": null,
   "id": "08b6141e",
   "metadata": {},
   "outputs": [
    {
     "name": "stdout",
     "output_type": "stream",
     "text": [
      "   Value\n",
      "0     17\n",
      "1     12\n",
      "2     14\n",
      "3     15\n",
      "4     16\n",
      "5     18\n",
      "6     19\n",
      "7     17\n",
      "8     20\n",
      "9     22\n"
     ]
    }
   ],
   "source": [
    "import numpy as np\n",
    "import pandas as pd\n",
    "\n",
    "# Sample data\n",
    "data = np.array([-1, 12, 14, 15, 16, 15, 19, 100, 20, 22])\n",
    "df = pd.DataFrame(data, columns=['Value'])\n",
    "\n",
    "# Compute Q1, Q3, IQR\n",
    "Q1 = df['Value'].quantile(0.25)\n",
    "Q3 = df['Value'].quantile(0.75)\n",
    "IQR = Q3 - Q1\n",
    "\n",
    "# Identify outliers\n",
    "lower_bound = Q1 - 1.5 * IQR\n",
    "upper_bound = Q3 + 1.5 * IQR\n",
    "outliers = (df['Value'] < lower_bound) | (df['Value'] > upper_bound)\n",
    "\n",
    "# Replace them with the median\n",
    "median = df['Value'].median()\n",
    "df.loc[outliers, 'Value'] = median\n",
    "\n",
    "print(df)\n"
   ]
  },
  {
   "cell_type": "markdown",
   "id": "3e67feb9",
   "metadata": {},
   "source": [
    "##### Mean Imputation\n",
    "> Replace outliers with the **mean**. Suitable when data are symmetrically distributed---but beware that the mean itself is influenced by extremes."
   ]
  },
  {
   "cell_type": "code",
   "execution_count": null,
   "id": "fa95e1e7",
   "metadata": {},
   "outputs": [
    {
     "name": "stdout",
     "output_type": "stream",
     "text": [
      "   Value\n",
      "0   23.5\n",
      "1   12.0\n",
      "2   14.0\n",
      "3   15.0\n",
      "4   16.0\n",
      "5   18.0\n",
      "6   19.0\n",
      "7   23.5\n",
      "8   20.0\n",
      "9   22.0\n"
     ]
    },
    {
     "name": "stderr",
     "output_type": "stream",
     "text": [
      "/tmp/ipykernel_13182/3558881393.py:20: FutureWarning: Setting an item of incompatible dtype is deprecated and will raise an error in a future version of pandas. Value '23.5' has dtype incompatible with int64, please explicitly cast to a compatible dtype first.\n",
      "  df.loc[outliers, 'Value'] = mean\n"
     ]
    }
   ],
   "source": [
    "import numpy as np\n",
    "import pandas as pd\n",
    "\n",
    "# Sample data\n",
    "data = np.array([-1, 12, 14, 15, 16, 15, 19, 100, 20, 22])\n",
    "df = pd.DataFrame(data, columns=['Value'])\n",
    "\n",
    "# Compute Q1, Q3, IQR\n",
    "Q1 = df['Value'].quantile(0.25)\n",
    "Q3 = df['Value'].quantile(0.75)\n",
    "IQR = Q3 - Q1\n",
    "\n",
    "# Identify outliers\n",
    "lower_bound = Q1 - 1.5 * IQR\n",
    "upper_bound = Q3 + 1.5 * IQR\n",
    "outliers = (df['Value'] < lower_bound) | (df['Value'] > upper_bound)\n",
    "\n",
    "# Replace them with the mean\n",
    "mean = df['Value'].mean()\n",
    "df.loc[outliers, 'Value'] = mean\n",
    "\n",
    "print(df)\n"
   ]
  },
  {
   "cell_type": "markdown",
   "id": "7fffc5db",
   "metadata": {},
   "source": [
    "##### Mode Imputation\n",
    "> Use the `mode` (most frequent value) to replace outliers. Works well for categorical data or numeric data with a clear peak."
   ]
  },
  {
   "cell_type": "code",
   "execution_count": null,
   "id": "f7c8c05e",
   "metadata": {},
   "outputs": [
    {
     "name": "stdout",
     "output_type": "stream",
     "text": [
      "   Value\n",
      "0     15\n",
      "1     12\n",
      "2     14\n",
      "3     15\n",
      "4     16\n",
      "5     15\n",
      "6     19\n",
      "7     15\n",
      "8     20\n",
      "9     22\n"
     ]
    }
   ],
   "source": [
    "import numpy as np\n",
    "import pandas as pd\n",
    "from scipy import stats\n",
    "\n",
    "# Sample data\n",
    "data = np.array([-1, 12, 14, 15, 16, 15, 19, 100, 20, 22])\n",
    "df = pd.DataFrame(data, columns=['Value'])\n",
    "\n",
    "# Compute Q1, Q3, IQR\n",
    "Q1 = df['Value'].quantile(0.25)\n",
    "Q3 = df['Value'].quantile(0.75)\n",
    "IQR = Q3 - Q1\n",
    "\n",
    "# Identify outliers\n",
    "lower_bound = Q1 - 1.5 * IQR\n",
    "upper_bound = Q3 + 1.5 * IQR\n",
    "outliers = (df['Value'] < lower_bound) | (df['Value'] > upper_bound)\n",
    "\n",
    "# Replace them with the mode\n",
    "mode = stats.mode(df['Value'])[0]\n",
    "df.loc[outliers, 'Value'] = mode\n",
    "\n",
    "print(df)\n"
   ]
  },
  {
   "cell_type": "markdown",
   "id": "977cab9c",
   "metadata": {},
   "source": [
    "##### Row Removal\n",
    "> If outliers are numerous or widely scattered, you may choose to remove those entire records at once. This avoids imputation bias but discards potentially useful data."
   ]
  },
  {
   "cell_type": "code",
   "execution_count": null,
   "id": "c1b6ae8a",
   "metadata": {},
   "outputs": [
    {
     "name": "stdout",
     "output_type": "stream",
     "text": [
      "   Value\n",
      "0     12\n",
      "1     14\n",
      "2     15\n",
      "3     16\n",
      "4     18\n",
      "5     19\n",
      "6     20\n",
      "7     22\n"
     ]
    }
   ],
   "source": [
    "import numpy as np\n",
    "import pandas as pd\n",
    "from scipy import stats\n",
    "\n",
    "# Sample data\n",
    "data = np.array([-1, 12, 14, 15, 16, 15, 19, 100, 20, 22])\n",
    "df = pd.DataFrame(data, columns=['Value'])\n",
    "\n",
    "# Compute Q1, Q3, IQR\n",
    "Q1 = df['Value'].quantile(0.25)\n",
    "Q3 = df['Value'].quantile(0.75)\n",
    "IQR = Q3 - Q1\n",
    "\n",
    "# Identify outliers\n",
    "lower_bound = Q1 - 1.5 * IQR\n",
    "upper_bound = Q3 + 1.5 * IQR\n",
    "outliers = (df['Value'] < lower_bound) | (df['Value'] > upper_bound)\n",
    "\n",
    "df_cleaned = df[~outliers].reset_index(drop=True)\n",
    "print(df_cleaned)"
   ]
  },
  {
   "cell_type": "markdown",
   "id": "eb7c14de",
   "metadata": {},
   "source": [
    "### Data Cleaning and Preprocessing"
   ]
  },
  {
   "cell_type": "markdown",
   "id": "83cbf5c2",
   "metadata": {},
   "source": [
    "##### Handling Missing Values"
   ]
  },
  {
   "cell_type": "code",
   "execution_count": 3,
   "id": "207ecbc3",
   "metadata": {},
   "outputs": [
    {
     "data": {
      "text/html": [
       "<div>\n",
       "<style scoped>\n",
       "    .dataframe tbody tr th:only-of-type {\n",
       "        vertical-align: middle;\n",
       "    }\n",
       "\n",
       "    .dataframe tbody tr th {\n",
       "        vertical-align: top;\n",
       "    }\n",
       "\n",
       "    .dataframe thead th {\n",
       "        text-align: right;\n",
       "    }\n",
       "</style>\n",
       "<table border=\"1\" class=\"dataframe\">\n",
       "  <thead>\n",
       "    <tr style=\"text-align: right;\">\n",
       "      <th></th>\n",
       "      <th>Height</th>\n",
       "      <th>Weight</th>\n",
       "    </tr>\n",
       "  </thead>\n",
       "  <tbody>\n",
       "    <tr>\n",
       "      <th>0</th>\n",
       "      <td>145.0</td>\n",
       "      <td>35</td>\n",
       "    </tr>\n",
       "    <tr>\n",
       "      <th>1</th>\n",
       "      <td>155.0</td>\n",
       "      <td>45</td>\n",
       "    </tr>\n",
       "    <tr>\n",
       "      <th>2</th>\n",
       "      <td>165.0</td>\n",
       "      <td>55</td>\n",
       "    </tr>\n",
       "    <tr>\n",
       "      <th>3</th>\n",
       "      <td>170.0</td>\n",
       "      <td>60</td>\n",
       "    </tr>\n",
       "    <tr>\n",
       "      <th>4</th>\n",
       "      <td>175.0</td>\n",
       "      <td>65</td>\n",
       "    </tr>\n",
       "    <tr>\n",
       "      <th>5</th>\n",
       "      <td>NaN</td>\n",
       "      <td>70</td>\n",
       "    </tr>\n",
       "    <tr>\n",
       "      <th>6</th>\n",
       "      <td>180.0</td>\n",
       "      <td>75</td>\n",
       "    </tr>\n",
       "    <tr>\n",
       "      <th>7</th>\n",
       "      <td>185.0</td>\n",
       "      <td>80</td>\n",
       "    </tr>\n",
       "    <tr>\n",
       "      <th>8</th>\n",
       "      <td>NaN</td>\n",
       "      <td>85</td>\n",
       "    </tr>\n",
       "    <tr>\n",
       "      <th>9</th>\n",
       "      <td>190.0</td>\n",
       "      <td>90</td>\n",
       "    </tr>\n",
       "  </tbody>\n",
       "</table>\n",
       "</div>"
      ],
      "text/plain": [
       "   Height  Weight\n",
       "0   145.0      35\n",
       "1   155.0      45\n",
       "2   165.0      55\n",
       "3   170.0      60\n",
       "4   175.0      65\n",
       "5     NaN      70\n",
       "6   180.0      75\n",
       "7   185.0      80\n",
       "8     NaN      85\n",
       "9   190.0      90"
      ]
     },
     "execution_count": 3,
     "metadata": {},
     "output_type": "execute_result"
    }
   ],
   "source": [
    "import pandas as pd\n",
    "import numpy as np\n",
    "\n",
    "# Build a simple height–weight dataset with two missing heights\n",
    "data = {\n",
    "    \"Height\": [145, 155, 165, 170, 175, np.nan, 180, 185, np.nan, 190],\n",
    "    \"Weight\": [35, 45, 55, 60, 65, 70, 75, 80, 85, 90]\n",
    "}\n",
    "\n",
    "df = pd.DataFrame(data)\n",
    "df"
   ]
  },
  {
   "cell_type": "code",
   "execution_count": null,
   "id": "c714a2f3",
   "metadata": {},
   "outputs": [
    {
     "name": "stdout",
     "output_type": "stream",
     "text": [
      "After dropping missing rows:\n"
     ]
    },
    {
     "data": {
      "text/html": [
       "<div>\n",
       "<style scoped>\n",
       "    .dataframe tbody tr th:only-of-type {\n",
       "        vertical-align: middle;\n",
       "    }\n",
       "\n",
       "    .dataframe tbody tr th {\n",
       "        vertical-align: top;\n",
       "    }\n",
       "\n",
       "    .dataframe thead th {\n",
       "        text-align: right;\n",
       "    }\n",
       "</style>\n",
       "<table border=\"1\" class=\"dataframe\">\n",
       "  <thead>\n",
       "    <tr style=\"text-align: right;\">\n",
       "      <th></th>\n",
       "      <th>Height</th>\n",
       "      <th>Weight</th>\n",
       "    </tr>\n",
       "  </thead>\n",
       "  <tbody>\n",
       "    <tr>\n",
       "      <th>0</th>\n",
       "      <td>145.0</td>\n",
       "      <td>35</td>\n",
       "    </tr>\n",
       "    <tr>\n",
       "      <th>1</th>\n",
       "      <td>155.0</td>\n",
       "      <td>45</td>\n",
       "    </tr>\n",
       "    <tr>\n",
       "      <th>2</th>\n",
       "      <td>165.0</td>\n",
       "      <td>55</td>\n",
       "    </tr>\n",
       "    <tr>\n",
       "      <th>3</th>\n",
       "      <td>170.0</td>\n",
       "      <td>60</td>\n",
       "    </tr>\n",
       "    <tr>\n",
       "      <th>4</th>\n",
       "      <td>175.0</td>\n",
       "      <td>65</td>\n",
       "    </tr>\n",
       "    <tr>\n",
       "      <th>6</th>\n",
       "      <td>180.0</td>\n",
       "      <td>75</td>\n",
       "    </tr>\n",
       "    <tr>\n",
       "      <th>7</th>\n",
       "      <td>185.0</td>\n",
       "      <td>80</td>\n",
       "    </tr>\n",
       "    <tr>\n",
       "      <th>9</th>\n",
       "      <td>190.0</td>\n",
       "      <td>90</td>\n",
       "    </tr>\n",
       "  </tbody>\n",
       "</table>\n",
       "</div>"
      ],
      "text/plain": [
       "   Height  Weight\n",
       "0   145.0      35\n",
       "1   155.0      45\n",
       "2   165.0      55\n",
       "3   170.0      60\n",
       "4   175.0      65\n",
       "6   180.0      75\n",
       "7   185.0      80\n",
       "9   190.0      90"
      ]
     },
     "execution_count": 7,
     "metadata": {},
     "output_type": "execute_result"
    }
   ],
   "source": [
    "# If the fraction of missing data is very small, you may simply remove those records\n",
    "df = pd.DataFrame(data)\n",
    "df.dropna(inplace=True)\n",
    "print(\"After dropping missing rows:\")\n",
    "df"
   ]
  },
  {
   "cell_type": "code",
   "execution_count": 11,
   "id": "24f34899",
   "metadata": {},
   "outputs": [
    {
     "name": "stdout",
     "output_type": "stream",
     "text": [
      "Median used for imputation: 172.5\n",
      "\n",
      "Data after median imputation:\n"
     ]
    },
    {
     "name": "stderr",
     "output_type": "stream",
     "text": [
      "/tmp/ipykernel_10000/538945578.py:5: FutureWarning: A value is trying to be set on a copy of a DataFrame or Series through chained assignment using an inplace method.\n",
      "The behavior will change in pandas 3.0. This inplace method will never work because the intermediate object on which we are setting values always behaves as a copy.\n",
      "\n",
      "For example, when doing 'df[col].method(value, inplace=True)', try using 'df.method({col: value}, inplace=True)' or df[col] = df[col].method(value) instead, to perform the operation inplace on the original object.\n",
      "\n",
      "\n",
      "  df['Height'].fillna(median_height, inplace=True)\n"
     ]
    },
    {
     "data": {
      "text/html": [
       "<div>\n",
       "<style scoped>\n",
       "    .dataframe tbody tr th:only-of-type {\n",
       "        vertical-align: middle;\n",
       "    }\n",
       "\n",
       "    .dataframe tbody tr th {\n",
       "        vertical-align: top;\n",
       "    }\n",
       "\n",
       "    .dataframe thead th {\n",
       "        text-align: right;\n",
       "    }\n",
       "</style>\n",
       "<table border=\"1\" class=\"dataframe\">\n",
       "  <thead>\n",
       "    <tr style=\"text-align: right;\">\n",
       "      <th></th>\n",
       "      <th>Height</th>\n",
       "      <th>Weight</th>\n",
       "    </tr>\n",
       "  </thead>\n",
       "  <tbody>\n",
       "    <tr>\n",
       "      <th>0</th>\n",
       "      <td>145.0</td>\n",
       "      <td>35</td>\n",
       "    </tr>\n",
       "    <tr>\n",
       "      <th>1</th>\n",
       "      <td>155.0</td>\n",
       "      <td>45</td>\n",
       "    </tr>\n",
       "    <tr>\n",
       "      <th>2</th>\n",
       "      <td>165.0</td>\n",
       "      <td>55</td>\n",
       "    </tr>\n",
       "    <tr>\n",
       "      <th>3</th>\n",
       "      <td>170.0</td>\n",
       "      <td>60</td>\n",
       "    </tr>\n",
       "    <tr>\n",
       "      <th>4</th>\n",
       "      <td>175.0</td>\n",
       "      <td>65</td>\n",
       "    </tr>\n",
       "    <tr>\n",
       "      <th>5</th>\n",
       "      <td>172.5</td>\n",
       "      <td>70</td>\n",
       "    </tr>\n",
       "    <tr>\n",
       "      <th>6</th>\n",
       "      <td>180.0</td>\n",
       "      <td>75</td>\n",
       "    </tr>\n",
       "    <tr>\n",
       "      <th>7</th>\n",
       "      <td>185.0</td>\n",
       "      <td>80</td>\n",
       "    </tr>\n",
       "    <tr>\n",
       "      <th>8</th>\n",
       "      <td>172.5</td>\n",
       "      <td>85</td>\n",
       "    </tr>\n",
       "    <tr>\n",
       "      <th>9</th>\n",
       "      <td>190.0</td>\n",
       "      <td>90</td>\n",
       "    </tr>\n",
       "  </tbody>\n",
       "</table>\n",
       "</div>"
      ],
      "text/plain": [
       "   Height  Weight\n",
       "0   145.0      35\n",
       "1   155.0      45\n",
       "2   165.0      55\n",
       "3   170.0      60\n",
       "4   175.0      65\n",
       "5   172.5      70\n",
       "6   180.0      75\n",
       "7   185.0      80\n",
       "8   172.5      85\n",
       "9   190.0      90"
      ]
     },
     "execution_count": 11,
     "metadata": {},
     "output_type": "execute_result"
    }
   ],
   "source": [
    "# Median Imputation\n",
    "df = pd.DataFrame(data)\n",
    "\n",
    "median_height = df['Height'].median()\n",
    "df['Height'].fillna(median_height, inplace=True)\n",
    "\n",
    "print(\"Median used for imputation:\", median_height)\n",
    "print(\"\\nData after median imputation:\")\n",
    "df\n"
   ]
  },
  {
   "cell_type": "code",
   "execution_count": 13,
   "id": "a3a00366",
   "metadata": {},
   "outputs": [
    {
     "name": "stdout",
     "output_type": "stream",
     "text": [
      "Mean used for imputation: 170.625\n",
      "\n",
      "Data after mean imputation:\n"
     ]
    },
    {
     "name": "stderr",
     "output_type": "stream",
     "text": [
      "/tmp/ipykernel_10000/3135116675.py:5: FutureWarning: A value is trying to be set on a copy of a DataFrame or Series through chained assignment using an inplace method.\n",
      "The behavior will change in pandas 3.0. This inplace method will never work because the intermediate object on which we are setting values always behaves as a copy.\n",
      "\n",
      "For example, when doing 'df[col].method(value, inplace=True)', try using 'df.method({col: value}, inplace=True)' or df[col] = df[col].method(value) instead, to perform the operation inplace on the original object.\n",
      "\n",
      "\n",
      "  df['Height'].fillna(mean_height, inplace=True)\n"
     ]
    },
    {
     "data": {
      "text/html": [
       "<div>\n",
       "<style scoped>\n",
       "    .dataframe tbody tr th:only-of-type {\n",
       "        vertical-align: middle;\n",
       "    }\n",
       "\n",
       "    .dataframe tbody tr th {\n",
       "        vertical-align: top;\n",
       "    }\n",
       "\n",
       "    .dataframe thead th {\n",
       "        text-align: right;\n",
       "    }\n",
       "</style>\n",
       "<table border=\"1\" class=\"dataframe\">\n",
       "  <thead>\n",
       "    <tr style=\"text-align: right;\">\n",
       "      <th></th>\n",
       "      <th>Height</th>\n",
       "      <th>Weight</th>\n",
       "    </tr>\n",
       "  </thead>\n",
       "  <tbody>\n",
       "    <tr>\n",
       "      <th>0</th>\n",
       "      <td>145.000</td>\n",
       "      <td>35</td>\n",
       "    </tr>\n",
       "    <tr>\n",
       "      <th>1</th>\n",
       "      <td>155.000</td>\n",
       "      <td>45</td>\n",
       "    </tr>\n",
       "    <tr>\n",
       "      <th>2</th>\n",
       "      <td>165.000</td>\n",
       "      <td>55</td>\n",
       "    </tr>\n",
       "    <tr>\n",
       "      <th>3</th>\n",
       "      <td>170.000</td>\n",
       "      <td>60</td>\n",
       "    </tr>\n",
       "    <tr>\n",
       "      <th>4</th>\n",
       "      <td>175.000</td>\n",
       "      <td>65</td>\n",
       "    </tr>\n",
       "    <tr>\n",
       "      <th>5</th>\n",
       "      <td>170.625</td>\n",
       "      <td>70</td>\n",
       "    </tr>\n",
       "    <tr>\n",
       "      <th>6</th>\n",
       "      <td>180.000</td>\n",
       "      <td>75</td>\n",
       "    </tr>\n",
       "    <tr>\n",
       "      <th>7</th>\n",
       "      <td>185.000</td>\n",
       "      <td>80</td>\n",
       "    </tr>\n",
       "    <tr>\n",
       "      <th>8</th>\n",
       "      <td>170.625</td>\n",
       "      <td>85</td>\n",
       "    </tr>\n",
       "    <tr>\n",
       "      <th>9</th>\n",
       "      <td>190.000</td>\n",
       "      <td>90</td>\n",
       "    </tr>\n",
       "  </tbody>\n",
       "</table>\n",
       "</div>"
      ],
      "text/plain": [
       "    Height  Weight\n",
       "0  145.000      35\n",
       "1  155.000      45\n",
       "2  165.000      55\n",
       "3  170.000      60\n",
       "4  175.000      65\n",
       "5  170.625      70\n",
       "6  180.000      75\n",
       "7  185.000      80\n",
       "8  170.625      85\n",
       "9  190.000      90"
      ]
     },
     "execution_count": 13,
     "metadata": {},
     "output_type": "execute_result"
    }
   ],
   "source": [
    "# Mean Imputation\n",
    "df = pd.DataFrame(data)\n",
    "\n",
    "mean_height = df['Height'].mean()\n",
    "df['Height'].fillna(mean_height, inplace=True)\n",
    "\n",
    "print(\"Mean used for imputation:\", mean_height)\n",
    "print(\"\\nData after mean imputation:\")\n",
    "df\n"
   ]
  },
  {
   "cell_type": "markdown",
   "id": "22723277",
   "metadata": {},
   "source": [
    "##### Handling Categorical Data"
   ]
  },
  {
   "cell_type": "markdown",
   "id": "fa868720",
   "metadata": {},
   "source": [
    "Label Encoding\n",
    "\n",
    ">Map each category to a unique integer (no ordinal meaning)"
   ]
  },
  {
   "cell_type": "code",
   "execution_count": 4,
   "id": "b3f2fe8b",
   "metadata": {},
   "outputs": [
    {
     "name": "stdout",
     "output_type": "stream",
     "text": [
      "Original labels: ['male', 'female', 'female', 'male', 'male']\n",
      "Encoded labels:  [1 0 0 1 1]\n",
      "Decoded labels:  ['male' 'female' 'female' 'male' 'male']\n"
     ]
    }
   ],
   "source": [
    "from sklearn.preprocessing import LabelEncoder\n",
    "\n",
    "# Instantiate the encoder\n",
    "le = LabelEncoder()\n",
    "\n",
    "# Sample gender labels\n",
    "gender = ['male', 'female', 'female', 'male', 'male']\n",
    "\n",
    "# Fit and transform to integer codes\n",
    "encoded_gender = le.fit_transform(gender)\n",
    "\n",
    "# Inverse-transform back to original labels\n",
    "decoded_gender = le.inverse_transform(encoded_gender)\n",
    "\n",
    "print(f\"Original labels: {gender}\")\n",
    "print(f\"Encoded labels:  {encoded_gender}\")\n",
    "print(f\"Decoded labels:  {decoded_gender}\")\n"
   ]
  },
  {
   "cell_type": "code",
   "execution_count": 5,
   "id": "67c62cac",
   "metadata": {},
   "outputs": [
    {
     "name": "stdout",
     "output_type": "stream",
     "text": [
      "Encoded classes: ['female' 'male']\n",
      "Gender counts: {np.str_('female'): np.int64(2), np.str_('male'): np.int64(3)}\n"
     ]
    }
   ],
   "source": [
    "import numpy as np\n",
    "\n",
    "# Retrieve the classes in the order they were encoded\n",
    "encoded_classes = le.classes_\n",
    "print(f\"Encoded classes: {encoded_classes}\")\n",
    "\n",
    "# Count how many times each encoded value appears\n",
    "unique, counts = np.unique(encoded_gender, return_counts=True)\n",
    "gender_counts = dict(zip(\n",
    "    le.inverse_transform(unique),  # map codes back to original labels\n",
    "    counts                         # their counts\n",
    "))\n",
    "print(f\"Gender counts: {gender_counts}\")\n"
   ]
  },
  {
   "cell_type": "markdown",
   "id": "9df28c68",
   "metadata": {},
   "source": [
    "Ordinal Encoding\n",
    "\n",
    ">When your categories have a natural order (e.g. “small” < “medium” < “large”), you can use ordinal encoding to assign integers that respect that order. Unlike simple label encoding, you explicitly specify the category sequence."
   ]
  },
  {
   "cell_type": "code",
   "execution_count": 7,
   "id": "fdab9622",
   "metadata": {},
   "outputs": [
    {
     "name": "stdout",
     "output_type": "stream",
     "text": [
      "Original data:\n",
      "[['Monday'], ['Wednesday'], ['Friday'], ['Sunday']]\n",
      "Encoded data:\n",
      "[[1.]\n",
      " [3.]\n",
      " [5.]\n",
      " [0.]]\n",
      "Decoded data:\n",
      "[['Monday']\n",
      " ['Wednesday']\n",
      " ['Friday']\n",
      " ['Sunday']]\n"
     ]
    }
   ],
   "source": [
    "# Ordinal Encoding with a Defined Category Order\n",
    "\n",
    "from sklearn.preprocessing import OrdinalEncoder\n",
    "\n",
    "# A few weekdays, out of order\n",
    "days = [['Monday'], ['Wednesday'], ['Friday'], ['Sunday']]\n",
    "\n",
    "# Create the encoder, listing all categories in their true order\n",
    "encoder = OrdinalEncoder(categories=[[\n",
    "    'Sunday', 'Monday', 'Tuesday',\n",
    "    'Wednesday', 'Thursday',\n",
    "    'Friday', 'Saturday'\n",
    "]])\n",
    "\n",
    "# Fit to the data and transform\n",
    "encoded_days = encoder.fit_transform(days)\n",
    "print(f\"Original data:\\n{days}\")\n",
    "print(f\"Encoded data:\\n{encoded_days}\")\n",
    "\n",
    "# Convert codes back to their string labels\n",
    "decoded_days = encoder.inverse_transform(encoded_days)\n",
    "print(f\"Decoded data:\\n{decoded_days}\")\n"
   ]
  },
  {
   "cell_type": "code",
   "execution_count": 8,
   "id": "67a70509",
   "metadata": {},
   "outputs": [
    {
     "name": "stdout",
     "output_type": "stream",
     "text": [
      "Original data:\n",
      "[['male', 'red', 'large'], ['female', 'green', 'medium'], ['female', 'blue', 'small'], ['male', 'blue', 'large'], ['male', 'green', 'medium']]\n",
      "\n",
      "Encoded data:\n",
      "[[0. 0. 2.]\n",
      " [1. 1. 1.]\n",
      " [1. 2. 0.]\n",
      " [0. 2. 2.]\n",
      " [0. 1. 1.]]\n",
      "\n",
      "Decoded data:\n",
      "[['male' 'red' 'large']\n",
      " ['female' 'green' 'medium']\n",
      " ['female' 'blue' 'small']\n",
      " ['male' 'blue' 'large']\n",
      " ['male' 'green' 'medium']]\n"
     ]
    }
   ],
   "source": [
    "# Ordinal Encoding with Multiple Categorical Features\n",
    "\n",
    "from sklearn.preprocessing import OrdinalEncoder\n",
    "\n",
    "# Define the raw data: [gender, color, size]\n",
    "data = [\n",
    "    ['male',   'red',    'large'],\n",
    "    ['female', 'green',  'medium'],\n",
    "    ['female', 'blue',   'small'],\n",
    "    ['male',   'blue',   'large'],\n",
    "    ['male',   'green',  'medium']\n",
    "]\n",
    "\n",
    "# Specify the category order for each feature\n",
    "categories = [\n",
    "    ['male', 'female'],              # gender: male < female\n",
    "    ['red', 'green', 'blue'],        # color: red < green < blue\n",
    "    ['small', 'medium', 'large']     # size: small < medium < large\n",
    "]\n",
    "\n",
    "# Create the encoder with our defined orders\n",
    "encoder = OrdinalEncoder(categories=categories)\n",
    "\n",
    "# Fit to the data and transform\n",
    "encoded_data = encoder.fit_transform(data)\n",
    "print(\"Original data:\")\n",
    "print(data)\n",
    "print(\"\\nEncoded data:\")\n",
    "print(encoded_data)\n",
    "\n",
    "# Inverse-transform to recover the original labels\n",
    "decoded_data = encoder.inverse_transform(encoded_data)\n",
    "print(\"\\nDecoded data:\")\n",
    "print(decoded_data)\n"
   ]
  },
  {
   "cell_type": "code",
   "execution_count": 9,
   "id": "8f57dfdf",
   "metadata": {},
   "outputs": [
    {
     "name": "stdout",
     "output_type": "stream",
     "text": [
      "Categories after encoding:\n",
      "[array(['male', 'female'], dtype=object), array(['red', 'green', 'blue'], dtype=object), array(['small', 'medium', 'large'], dtype=object)]\n"
     ]
    }
   ],
   "source": [
    "categories_after_encoding = encoder.categories_\n",
    "print(\"Categories after encoding:\")\n",
    "print(categories_after_encoding)\n"
   ]
  },
  {
   "cell_type": "markdown",
   "id": "960cc609",
   "metadata": {},
   "source": [
    "One-Hot Encoding\n",
    "\n",
    ">One-hot encoding converts each categorical feature into a set of binary (0/1) “dummy” variables—one per category. This is especially useful for machine-learning models that cannot interpret ordinal integer encodings and should not assume any inherent order among categories."
   ]
  },
  {
   "cell_type": "markdown",
   "id": "e9f7dd3c",
   "metadata": {},
   "source": [
    "Frequency Encoding\n",
    "\n",
    ">Frequency encoding converts each category into the count of its occurrences in the dataset. This both preserves the information about how common each category is and keeps the feature dimensionality unchanged.\n",
    "\n",
    "**Example:**\\\n",
    "Suppose we have a single \"color\" column with these values:\\\n",
    "`['red', 'green', 'blue', 'red', 'green', 'green', 'yellow']`\\\n",
    "-- \"red\" appears **2** times → encoded as **2**\\\n",
    "-- \"green\" appears **3** times → encoded as **3**\\\n",
    "-- \"blue\" appears **1** time → encoded as **1**\\\n",
    "-- \"yellow\" appears **1** time → encoded as **1**"
   ]
  },
  {
   "cell_type": "code",
   "execution_count": 11,
   "id": "58d85c3b",
   "metadata": {},
   "outputs": [
    {
     "name": "stdout",
     "output_type": "stream",
     "text": [
      "    color  color_FreqEnc\n",
      "0     red              2\n",
      "1   green              3\n",
      "2    blue              1\n",
      "3     red              2\n",
      "4   green              3\n",
      "5   green              3\n",
      "6  yellow              1\n"
     ]
    }
   ],
   "source": [
    "# Frequency encoding a color feature\n",
    "import pandas as pd\n",
    "\n",
    "# Create a DataFrame of colors\n",
    "data = {\n",
    "    'color': ['red', 'green', 'blue', 'red', 'green', 'green', 'yellow']\n",
    "}\n",
    "df = pd.DataFrame(data)\n",
    "\n",
    "# Count occurrences of each color\n",
    "freq = df['color'].value_counts()\n",
    "\n",
    "# Map counts back into a new column\n",
    "df['color_FreqEnc'] = df['color'].map(freq)\n",
    "\n",
    "print(df)\n"
   ]
  },
  {
   "cell_type": "markdown",
   "id": "22fec6a4",
   "metadata": {},
   "source": [
    "Feature Combination\n",
    "\n",
    ">Sometimes the interaction between two (or more) categorical features can be predictive. **Feature combination** creates a new categorical variable by concatenating existing ones---capturing these interactions directly.\n",
    "\n",
    "> **Example:**\\\n",
    "> Given two features, **color** and **size**, you can form a new feature **color_size**, with values like `red_large`, `green_small`, etc."
   ]
  },
  {
   "cell_type": "code",
   "execution_count": 12,
   "id": "6692ef7e",
   "metadata": {},
   "outputs": [
    {
     "name": "stdout",
     "output_type": "stream",
     "text": [
      "    color    size     color_size\n",
      "0     red   large      red_large\n",
      "1   green  medium   green_medium\n",
      "2    blue   small     blue_small\n",
      "3     red   large      red_large\n",
      "4   green  medium   green_medium\n",
      "5   green   large    green_large\n",
      "6  yellow  medium  yellow_medium\n"
     ]
    }
   ],
   "source": [
    "# Combining color and size into one feature\n",
    "import pandas as pd\n",
    "\n",
    "data = {\n",
    "    'color': ['red', 'green', 'blue', 'red', 'green', 'green', 'yellow'],\n",
    "    'size':  ['large','medium','small','large','medium','large','medium']\n",
    "}\n",
    "df = pd.DataFrame(data)\n",
    "\n",
    "# Create the combined feature\n",
    "df['color_size'] = df['color'] + '_' + df['size']\n",
    "\n",
    "print(df)\n"
   ]
  },
  {
   "cell_type": "markdown",
   "id": "02ead27d",
   "metadata": {},
   "source": [
    "These new categorical combinations can then be encoded (e.g., via one-hot or ordinal encoding) before feeding them into a machine-learning model."
   ]
  },
  {
   "cell_type": "markdown",
   "id": "f8866ba0",
   "metadata": {},
   "source": [
    "### Data Normalization and Standardization"
   ]
  },
  {
   "cell_type": "markdown",
   "id": "71bc1411",
   "metadata": {},
   "source": [
    "**Normalization** \n",
    "\n",
    "Also called min–max scaling, linearly transforms a feature so that its minimum becomes 0 and its maximum becomes 1:\n",
    "\n",
    "Min–Max Normalization\n",
    "\n",
    "$$\n",
    "x' = \\frac{x - \\min(x)}{\\max(x) - \\min(x)}\n",
    "$$\n",
    "\n",
    "- $x$ is the original value.\n",
    "\n",
    "- $x'$ is the normalized value.\n",
    "\n",
    "- $min⁡(x)$ and $max⁡(x)$ are the feature’s minimum and maximum, respectively."
   ]
  },
  {
   "cell_type": "markdown",
   "id": "d85f80cf",
   "metadata": {},
   "source": [
    "**Standardization**\n",
    "\n",
    "Also called Mean & variance (z-score) standardization. \n",
    "\n",
    "A common “z-score” standardization formula is:\n",
    "\n",
    "$$\n",
    "x' = \\frac{x−μ}{σ}\n",
    "$$\n",
    "\n",
    "> Equation 2 Mean & variance (z-score) standardization\n",
    "- $x$ is an original data point\n",
    "\n",
    "- $x'$ is the standardized value\n",
    "\n",
    "- $μ$ is the mean of the feature\n",
    "\n",
    "- $σ$ is the standard deviation of the feature"
   ]
  }
 ],
 "metadata": {
  "kernelspec": {
   "display_name": "eda",
   "language": "python",
   "name": "python3"
  },
  "language_info": {
   "codemirror_mode": {
    "name": "ipython",
    "version": 3
   },
   "file_extension": ".py",
   "mimetype": "text/x-python",
   "name": "python",
   "nbconvert_exporter": "python",
   "pygments_lexer": "ipython3",
   "version": "3.10.18"
  }
 },
 "nbformat": 4,
 "nbformat_minor": 5
}
